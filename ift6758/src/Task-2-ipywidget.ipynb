{
 "cells": [
  {
   "cell_type": "code",
   "execution_count": 4,
   "id": "c7cb0066",
   "metadata": {},
   "outputs": [],
   "source": [
    "import pandas as pd\n",
    "import matplotlib.pyplot as plt\n",
    "import matplotlib.image as mpimg\n",
    "import numpy as np\n",
    "import ipywidgets as widgets\n",
    "from ipywidgets import Dropdown\n",
    "from IPython.display import clear_output, display"
   ]
  },
  {
   "cell_type": "code",
   "execution_count": 72,
   "id": "2d6b3f17",
   "metadata": {},
   "outputs": [],
   "source": [
    "df=pd.read_csv('nhl_all_games_data.csv')\n",
    "rink_img_path = \"rink.png\"\n",
    "rink_img = mpimg.imread(rink_img_path)\n"
   ]
  },
  {
   "cell_type": "code",
   "execution_count": 7,
   "id": "7a66f2fa",
   "metadata": {},
   "outputs": [
    {
     "data": {
      "application/vnd.jupyter.widget-view+json": {
       "model_id": "1cfa78c948d245d9805961cee40bd693",
       "version_major": 2,
       "version_minor": 0
      },
      "text/plain": [
       "VBox(children=(Dropdown(description='Season', options=(20162017, 20172018, 20182019, 20192020, 20202021, 20212…"
      ]
     },
     "metadata": {},
     "output_type": "display_data"
    }
   ],
   "source": [
    "xcol, ycol = \"details_xCoord\", \"details_yCoord\"\n",
    "etype_col = \"typeDescKey\" if \"typeDescKey\" in df.columns else (\"typeDesc\" if \"typeDesc\" in df.columns else \"type\")\n",
    "\n",
    "\n",
    "def draw_play_event(season, gameDate, event_id):\n",
    "    clear_output(wait=True)\n",
    "\n",
    "    df_game = df[(df['season'] == season) & (df['gameDate'] == gameDate)]\n",
    "    if df_game.empty:\n",
    "        print(\"No events for this game\")\n",
    "        return\n",
    "\n",
    "    if event_id not in df_game['eventId'].unique():\n",
    "        print(f\"Event ID {event_id} not found in this game\")\n",
    "        return\n",
    "\n",
    "    df_event = df_game[df_game['eventId'] == event_id]\n",
    "    df_coords = df_event.dropna(subset=[xcol, ycol])\n",
    "\n",
    "    fig, ax = plt.subplots(figsize=(10,6))\n",
    "    ax.imshow(rink_img, extent=[-100,100,-42.5,42.5], zorder=0, aspect='auto')\n",
    "\n",
    "    if not df_coords.empty:\n",
    "        ax.scatter(df_coords[xcol], df_coords[ycol], c=\"blue\", s=60, alpha=0.8, zorder=5)\n",
    "        for _, row in df_coords.iterrows():\n",
    "            label = f\"{row.get(etype_col,'')} ({row.get('timeInPeriod','')})\"\n",
    "            ax.text(row[xcol]+2, row[ycol]+2, label, fontsize=8, color=\"black\")\n",
    "\n",
    "    ax.set_xlim(-100,100)\n",
    "    ax.set_ylim(-42.5,42.5)\n",
    "    ax.set_aspect(\"equal\")\n",
    "    ax.set_title(f\"{season} | {gameDate} | Event {event_id}\", fontsize=14)\n",
    "    plt.show()\n",
    "\n",
    "    display(df_event.reset_index(drop=True))\n",
    "\n",
    "\n",
    "season_dd = widgets.Dropdown(options=sorted(df['season'].unique()), description=\"Season\")\n",
    "game_dd   = widgets.Dropdown(description=\"Game Date\")\n",
    "event_slider = widgets.SelectionSlider(description=\"Event ID\", options=[0], value=0,\n",
    "                                       continuous_update=False, layout=widgets.Layout(width=\"80%\"))\n",
    "\n",
    "def update_games(*args):\n",
    "    season_val = season_dd.value\n",
    "    games = sorted(df[df['season']==season_val]['gameDate'].unique())\n",
    "    game_dd.options = games\n",
    "    if games:\n",
    "        game_dd.value = games[0]\n",
    "season_dd.observe(update_games, names=\"value\")\n",
    "\n",
    "def update_events(*args):\n",
    "    season_val = season_dd.value\n",
    "    game_val = game_dd.value\n",
    "    df_game = df[(df['season']==season_val) & (df['gameDate']==game_val)]\n",
    "    event_ids = sorted(df_game['eventId'].unique())\n",
    "    if len(event_ids) > 0:\n",
    "        event_slider.options = event_ids\n",
    "        event_slider.value = event_ids[0]\n",
    "    else:\n",
    "        event_slider.options = [0]\n",
    "        event_slider.value = 0\n",
    "game_dd.observe(update_events, names=\"value\")\n",
    "\n",
    "out = widgets.interactive_output(\n",
    "    draw_play_event,\n",
    "    {\"season\": season_dd, \"gameDate\": game_dd, \"event_id\": event_slider}\n",
    ")\n",
    "\n",
    "\n",
    "update_games()\n",
    "update_events()\n",
    "\n",
    "\n",
    "ui = widgets.VBox([season_dd, game_dd, event_slider, out])\n",
    "display(ui)"
   ]
  },
  {
   "cell_type": "code",
   "execution_count": null,
   "id": "93189536",
   "metadata": {},
   "outputs": [],
   "source": []
  }
 ],
 "metadata": {
  "kernelspec": {
   "display_name": "Python 3 (ipykernel)",
   "language": "python",
   "name": "python3"
  },
  "language_info": {
   "codemirror_mode": {
    "name": "ipython",
    "version": 3
   },
   "file_extension": ".py",
   "mimetype": "text/x-python",
   "name": "python",
   "nbconvert_exporter": "python",
   "pygments_lexer": "ipython3",
   "version": "3.9.13"
  }
 },
 "nbformat": 4,
 "nbformat_minor": 5
}
